{
  "nbformat": 4,
  "nbformat_minor": 0,
  "metadata": {
    "colab": {
      "provenance": []
    },
    "kernelspec": {
      "name": "python3",
      "display_name": "Python 3"
    },
    "language_info": {
      "name": "python"
    }
  },
  "cells": [
    {
      "cell_type": "code",
      "execution_count": 1,
      "metadata": {
        "id": "hqDFFoHf9vW_"
      },
      "outputs": [],
      "source": [
        "# Importando as bibliotecas necessárias\n",
        "import tensorflow as tf\n",
        "from tensorflow.keras.datasets import mnist\n",
        "from tensorflow.keras.models import Sequential\n",
        "from tensorflow.keras.layers import Dense, Dropout, Flatten\n",
        "from tensorflow.keras.layers import Conv2D, MaxPooling2D"
      ]
    },
    {
      "cell_type": "code",
      "source": [
        "# Configurando os parâmetros da imagem e do modelo\n",
        "num_classes = 10\n",
        "img_rows, img_cols = 28, 28"
      ],
      "metadata": {
        "id": "QgCMnY-899NQ"
      },
      "execution_count": 2,
      "outputs": []
    },
    {
      "cell_type": "code",
      "source": [
        "# Carregando os dados do MNIST\n",
        "(x_train, y_train), (x_test, y_test) = mnist.load_data()"
      ],
      "metadata": {
        "colab": {
          "base_uri": "https://localhost:8080/"
        },
        "id": "6ktQJUrY9_Lo",
        "outputId": "dec49369-ebdb-41ee-9933-e0984f4c6eae"
      },
      "execution_count": 3,
      "outputs": [
        {
          "output_type": "stream",
          "name": "stdout",
          "text": [
            "Downloading data from https://storage.googleapis.com/tensorflow/tf-keras-datasets/mnist.npz\n",
            "11490434/11490434 [==============================] - 0s 0us/step\n"
          ]
        }
      ]
    },
    {
      "cell_type": "code",
      "source": [
        "# Normalizando os dados de imagem para que eles estejam entre 0 e 1\n",
        "x_train = x_train.astype('float32')\n",
        "x_test = x_test.astype('float32')\n",
        "x_train /= 255\n",
        "x_test /= 255"
      ],
      "metadata": {
        "id": "X4dGcI2U-CAP"
      },
      "execution_count": 4,
      "outputs": []
    },
    {
      "cell_type": "code",
      "source": [
        "# Redimensionando os dados de imagem para o formato correto\n",
        "x_train = x_train.reshape(x_train.shape[0], img_rows, img_cols, 1)\n",
        "x_test = x_test.reshape(x_test.shape[0], img_rows, img_cols, 1)\n",
        "input_shape = (img_rows, img_cols, 1)"
      ],
      "metadata": {
        "id": "_L5A-AdJ-EEw"
      },
      "execution_count": 5,
      "outputs": []
    },
    {
      "cell_type": "code",
      "source": [
        "# Convertendo os rótulos de classe para formato binário\n",
        "y_train = tf.keras.utils.to_categorical(y_train, num_classes)\n",
        "y_test = tf.keras.utils.to_categorical(y_test, num_classes)"
      ],
      "metadata": {
        "id": "ZGz405QA-F0w"
      },
      "execution_count": 6,
      "outputs": []
    },
    {
      "cell_type": "code",
      "source": [
        "# Definindo o modelo\n",
        "model = Sequential()\n",
        "model.add(Conv2D(32, kernel_size=(3, 3), activation='relu', input_shape=input_shape))\n",
        "model.add(MaxPooling2D(pool_size=(2, 2)))\n",
        "model.add(Dropout(0.25))\n",
        "model.add(Flatten())\n",
        "model.add(Dense(128, activation='relu'))\n",
        "model.add(Dropout(0.5))\n",
        "model.add(Dense(num_classes, activation='softmax'))"
      ],
      "metadata": {
        "id": "PeWMxauJ-THh"
      },
      "execution_count": 7,
      "outputs": []
    },
    {
      "cell_type": "code",
      "source": [
        "# Compilando o modelo\n",
        "model.compile(loss=tf.keras.losses.categorical_crossentropy,\n",
        "              optimizer=tf.keras.optimizers.Adam(),\n",
        "              metrics=['accuracy'])"
      ],
      "metadata": {
        "id": "bxVPMJsV-TzC"
      },
      "execution_count": 8,
      "outputs": []
    },
    {
      "cell_type": "code",
      "source": [
        "# Treinando o modelo\n",
        "model.fit(x_train, y_train,\n",
        "          batch_size=64,\n",
        "          epochs=10,\n",
        "          verbose=1,\n",
        "          validation_data=(x_test, y_test))"
      ],
      "metadata": {
        "colab": {
          "base_uri": "https://localhost:8080/"
        },
        "id": "8y7375UT-VkZ",
        "outputId": "ee6b0b15-c661-4077-a196-ecace1bc0ba9"
      },
      "execution_count": 18,
      "outputs": [
        {
          "output_type": "stream",
          "name": "stdout",
          "text": [
            "Epoch 1/10\n",
            "938/938 [==============================] - 191s 204ms/step - loss: 2.0370 - accuracy: 0.4551 - val_loss: 1.8815 - val_accuracy: 0.7321\n",
            "Epoch 2/10\n",
            "938/938 [==============================] - 186s 199ms/step - loss: 1.8036 - accuracy: 0.5505 - val_loss: 1.5849 - val_accuracy: 0.7636\n",
            "Epoch 3/10\n",
            "938/938 [==============================] - 188s 201ms/step - loss: 1.5350 - accuracy: 0.6105 - val_loss: 1.2696 - val_accuracy: 0.7873\n",
            "Epoch 4/10\n",
            "938/938 [==============================] - 185s 197ms/step - loss: 1.2974 - accuracy: 0.6515 - val_loss: 1.0200 - val_accuracy: 0.8065\n",
            "Epoch 5/10\n",
            "938/938 [==============================] - 196s 209ms/step - loss: 1.1197 - accuracy: 0.6837 - val_loss: 0.8469 - val_accuracy: 0.8248\n",
            "Epoch 6/10\n",
            "938/938 [==============================] - 193s 206ms/step - loss: 0.9959 - accuracy: 0.7097 - val_loss: 0.7293 - val_accuracy: 0.8352\n",
            "Epoch 7/10\n",
            "938/938 [==============================] - 194s 207ms/step - loss: 0.9060 - accuracy: 0.7288 - val_loss: 0.6465 - val_accuracy: 0.8460\n",
            "Epoch 8/10\n",
            "938/938 [==============================] - 194s 207ms/step - loss: 0.8349 - accuracy: 0.7484 - val_loss: 0.5868 - val_accuracy: 0.8572\n",
            "Epoch 9/10\n",
            "938/938 [==============================] - 190s 203ms/step - loss: 0.7829 - accuracy: 0.7608 - val_loss: 0.5420 - val_accuracy: 0.8648\n",
            "Epoch 10/10\n",
            "938/938 [==============================] - 193s 206ms/step - loss: 0.7436 - accuracy: 0.7729 - val_loss: 0.5069 - val_accuracy: 0.8715\n"
          ]
        },
        {
          "output_type": "execute_result",
          "data": {
            "text/plain": [
              "<keras.callbacks.History at 0x7f59ecdefb20>"
            ]
          },
          "metadata": {},
          "execution_count": 18
        }
      ]
    },
    {
      "cell_type": "code",
      "source": [
        "# Avaliando o modelo\n",
        "score = model.evaluate(x_test, y_test, verbose=0)\n",
        "print('Test loss:', score[0])\n",
        "print('Test accuracy:', score[1])"
      ],
      "metadata": {
        "colab": {
          "base_uri": "https://localhost:8080/"
        },
        "id": "2HnPbyWP-XHZ",
        "outputId": "5963d52c-58b9-4d2f-a30e-f11b88df84ec"
      },
      "execution_count": 19,
      "outputs": [
        {
          "output_type": "stream",
          "name": "stdout",
          "text": [
            "Test loss: 0.5068578720092773\n",
            "Test accuracy: 0.8715000152587891\n"
          ]
        }
      ]
    }
  ]
}